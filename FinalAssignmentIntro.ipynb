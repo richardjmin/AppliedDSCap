{
    "cells": [
        {
            "cell_type": "markdown",
            "metadata": {
                "collapsed": true
            },
            "source": "# The Battle of the Neighborhoods Final Assignment"
        },
        {
            "cell_type": "markdown",
            "metadata": {},
            "source": "## Introduction/Business Problem:"
        },
        {
            "cell_type": "markdown",
            "metadata": {},
            "source": "New York City is a very diverse in their culture and cuisine. I want to pitch to investors who are interested in opening up a Japanese/sushi resturant in New York City and I want to find the most optimal location to start this new business venture. My target audience will be investors who are interested in opening up a Japanese resturant in New York City. I feel that Japanese cuisine is getting more popular in the United States and that New York City would be a great location to start a resturant since there seems to be a lot of Michelin star resturants in that area.  "
        },
        {
            "cell_type": "markdown",
            "metadata": {},
            "source": "## Data"
        },
        {
            "cell_type": "markdown",
            "metadata": {},
            "source": "I will be using this data for New York: https://geo.nyu.edu/catalog/nyu_2451_34572. The purpose of this data is to look at the different neighborhoods and explore them. With this data, I will be able to obtain the geographical information of New York City such as longitude and latitude.\n\nI will be using the Foursquare Api to explore the different venues in the New York City. I want to see how each neighborhood's  Japanese resturants scores are and where Japanese cuisine is popular in. I want to find the best Japanese resturants and to know where they are located to see if there is any possible trend or connection. "
        },
        {
            "cell_type": "code",
            "execution_count": null,
            "metadata": {},
            "outputs": [],
            "source": ""
        }
    ],
    "metadata": {
        "kernelspec": {
            "display_name": "Python 3.6",
            "language": "python",
            "name": "python3"
        },
        "language_info": {
            "codemirror_mode": {
                "name": "ipython",
                "version": 3
            },
            "file_extension": ".py",
            "mimetype": "text/x-python",
            "name": "python",
            "nbconvert_exporter": "python",
            "pygments_lexer": "ipython3",
            "version": "3.6.9"
        }
    },
    "nbformat": 4,
    "nbformat_minor": 1
}